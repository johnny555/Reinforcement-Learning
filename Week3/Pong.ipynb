{
 "cells": [
  {
   "cell_type": "code",
   "execution_count": null,
   "metadata": {},
   "outputs": [],
   "source": [
    "%install-location $cwd/swift-install\n",
    "%install '.package(path: \"~/git/swiftai\")' SwiftAI"
   ]
  },
  {
   "cell_type": "code",
   "execution_count": null,
   "metadata": {},
   "outputs": [],
   "source": [
    "%include \"EnableIPythonDisplay.swift\"\n",
    "IPythonDisplay.shell.enable_matplotlib(\"inline\")"
   ]
  },
  {
   "cell_type": "code",
   "execution_count": null,
   "metadata": {},
   "outputs": [],
   "source": [
    "//export\n",
    "import Path\n",
    "import SwiftAI\n",
    "import TensorFlow"
   ]
  },
  {
   "cell_type": "code",
   "execution_count": null,
   "metadata": {},
   "outputs": [],
   "source": [
    "public typealias TF = Tensor<Float>\n",
    "public typealias TI = Tensor<Int32>"
   ]
  },
  {
   "cell_type": "code",
   "execution_count": null,
   "metadata": {},
   "outputs": [],
   "source": [
    "//export\n",
    "import Python\n",
    "\n",
    "let gym = Python.import(\"gym\")\n",
    "let np = Python.import(\"numpy\")"
   ]
  },
  {
   "cell_type": "code",
   "execution_count": null,
   "metadata": {},
   "outputs": [],
   "source": [
    "struct Observation {\n",
    "    public let obs: TF\n",
    "}\n",
    "\n",
    "let empty_obs = Observation(obs: TF(zeros: [210, 160, 3]))\n",
    "\n",
    "struct Action {\n",
    "    public let action: Int\n",
    "}\n",
    "\n",
    "struct Reward : AdditiveArithmetic {\n",
    "    public let r: Float\n",
    "    \n",
    "}\n",
    "let zero_reward = Reward(r:0)\n",
    "\n",
    "// Define how to add reward objects\n",
    "func +(lhs: Reward, rhs: Reward) -> Reward {\n",
    "        let r = lhs.r + rhs.r\n",
    "        return Reward(r:r)\n",
    "}"
   ]
  },
  {
   "cell_type": "markdown",
   "metadata": {},
   "source": [
    "# Need to deal with the Gym environment"
   ]
  },
  {
   "cell_type": "code",
   "execution_count": null,
   "metadata": {},
   "outputs": [],
   "source": [
    "func np_to_tf(_ arr: PythonObject) -> TF {\n",
    "    return Tensor<Float> ( numpy: np.array(arr, dtype: np.float32))!\n",
    "}"
   ]
  },
  {
   "cell_type": "code",
   "execution_count": null,
   "metadata": {},
   "outputs": [],
   "source": [
    "func np_to_obs(_ arr: PythonObject) -> Observation {\n",
    "    let obs = Tensor<Float> ( numpy: np.array(arr, dtype: np.float32))\n",
    "    if obs == nil {\n",
    "        print(\"np_to_obs: Oh no! observation did not parse!\")\n",
    "    }\n",
    "    return Observation(obs: obs!)\n",
    "}"
   ]
  },
  {
   "cell_type": "code",
   "execution_count": null,
   "metadata": {},
   "outputs": [],
   "source": [
    "func reset_env(_ env: PythonObject) -> Observation {\n",
    "    return np_to_obs(env.reset())\n",
    "}\n",
    "\n",
    "func step_env(env: PythonObject, act: Action) -> (Observation, Reward, Bool) {\n",
    "    let res = env.step(act.action)\n",
    "    let obs = np_to_obs(res[0])\n",
    "    let r = Float(res[1])!\n",
    "    let cont = Bool(res[2])!\n",
    "    \n",
    "    return (obs, Reward(r:r), cont )\n",
    "}"
   ]
  },
  {
   "cell_type": "code",
   "execution_count": null,
   "metadata": {},
   "outputs": [],
   "source": [
    "// steps n times, summing reward over steps.\n",
    "func step_n_times(n: Int = 4, env: PythonObject, act: Action) ->\n",
    "    (Observation, Reward, Bool)\n",
    "{\n",
    "    var rew = Reward(r: 0)\n",
    "\n",
    "    var res = env.step(act.action)\n",
    "    rew = rew + Reward(r: Float(res[1])! )\n",
    "    \n",
    "    let range: ClosedRange<Int> = 1...n\n",
    "    for _ in range {\n",
    "        res = env.step(act.action)\n",
    "        rew = rew + Reward(r: Float(res[1])! )\n",
    "    }\n",
    "    \n",
    "    let obs = np_to_obs(res[0])\n",
    "    let running  = Bool(res[2])!\n",
    "    \n",
    "    return (obs, rew, running)\n",
    "}"
   ]
  },
  {
   "cell_type": "markdown",
   "metadata": {},
   "source": [
    "# Now try to build a DQN"
   ]
  },
  {
   "cell_type": "code",
   "execution_count": null,
   "metadata": {},
   "outputs": [],
   "source": [
    "public struct DQNModel: Layer {\n",
    "    public var conv1: ConvLayer\n",
    "    public var conv2: ConvLayer\n",
    "    public var conv3: ConvLayer\n",
    "    public var pool = GlobalAvgPool2D<Float>()\n",
    "    public var linear1: Dense<Float>\n",
    "    public var linear2: Dense<Float>\n",
    "\n",
    "    \n",
    "    public init(nActions: Int){\n",
    "        conv1 = ConvLayer(3, 32, ks: 8)\n",
    "        conv2 = ConvLayer(32, 64, ks: 4, stride: 2)\n",
    "        conv3 = ConvLayer(64, 64, ks: 3)\n",
    "        linear1 = Dense(inputSize: 64, outputSize: 256, activation: relu) \n",
    "        linear2 = Dense(inputSize: 256, outputSize: nActions) \n",
    "    }\n",
    "    \n",
    "    @differentiable\n",
    "    public func callAsFunction(_ input: TF) -> TF {\n",
    "       return input.compose(conv1, conv2, conv3, pool, linear1, linear2)\n",
    "        \n",
    "    }\n",
    "}"
   ]
  },
  {
   "cell_type": "code",
   "execution_count": null,
   "metadata": {},
   "outputs": [],
   "source": [
    "var p1 = DQNModel(nActions: 6)"
   ]
  },
  {
   "cell_type": "code",
   "execution_count": null,
   "metadata": {},
   "outputs": [],
   "source": [
    "var vars = p1.variables"
   ]
  },
  {
   "cell_type": "code",
   "execution_count": null,
   "metadata": {},
   "outputs": [],
   "source": [
    "p1.variables = vars"
   ]
  },
  {
   "cell_type": "code",
   "execution_count": null,
   "metadata": {},
   "outputs": [],
   "source": [
    "var  env = gym.make(\"PongNoFrameskip-v4\")\n",
    "var s1 = env.reset().reshape([1, 210,160,3])"
   ]
  },
  {
   "cell_type": "code",
   "execution_count": null,
   "metadata": {},
   "outputs": [],
   "source": [
    "// how many actions are there... \n",
    "env.action_space"
   ]
  },
  {
   "cell_type": "code",
   "execution_count": null,
   "metadata": {},
   "outputs": [],
   "source": [
    "var (a,b,c) = step_n_times(n:10, env: env, act: Action(action:1))"
   ]
  },
  {
   "cell_type": "code",
   "execution_count": null,
   "metadata": {},
   "outputs": [],
   "source": [
    "(a.obs - np_to_tf(s1)).sum()"
   ]
  },
  {
   "cell_type": "code",
   "execution_count": null,
   "metadata": {},
   "outputs": [],
   "source": [
    "func select_greedy_action(s: SA, \n",
    "                          obs: Observation) -> Action {\n",
    "    \n",
    "    let (_, a) = best_action_value(s:s, cs:obs)\n",
    "    \n",
    "    return a\n",
    "}\n",
    "\n",
    "func best_action_value(s: SA, \n",
    "                       cs: Observation) -> (Reward, Action)\n",
    "{\n",
    "    var best_value: Float = 0\n",
    "    var best_action = Action(action:0)\n",
    "    let r : Range = 0..<4\n",
    "    for i in r {\n",
    "        var a = Action(action:i)\n",
    "        var pair  = StateActionPair(state: cs, act:a) \n",
    "        if ( (s[pair] ?? 0) > best_value) {\n",
    "            best_value = s[pair] ?? 0\n",
    "            best_action = a\n",
    "        }\n",
    "    }\n",
    "    \n",
    "    return (Reward(reward:best_value), \n",
    "            best_action)\n",
    "}"
   ]
  },
  {
   "cell_type": "code",
   "execution_count": null,
   "metadata": {},
   "outputs": [],
   "source": [
    "func select_eps_greedy_action(s: SA, \n",
    "                              obs: Observation, \n",
    "                              n_actions: Int, \n",
    "                              eps: Float) -> Action {\n",
    "    \n",
    "    let (val, act) = best_action_value(s:s, cs: obs)\n",
    "    \n",
    "    let r = Float( random.random() )!\n",
    "    \n",
    "    if (r < eps) {\n",
    "        let r_act = Int(random.randint(0, n_actions))!\n",
    "        return Action(action: r_act)\n",
    "        \n",
    "    } else {\n",
    "        return act\n",
    "    }\n",
    "}\n",
    "\n",
    "func q_learning(sr:inout SA, current_obs: Observation, \n",
    "                next_obs: Observation, r: Reward, a: Action, \n",
    "                g: Float, lr: Float) -> SA\n",
    "{\n",
    "    let (best_value, _) = best_action_value(s:sr, \n",
    "                                             cs: next_obs)\n",
    "    \n",
    "    let Q_target = r.reward + g * best_value.reward\n",
    "    let pair = StateActionPair(state: current_obs, act:a)\n",
    "    let Q_error = Q_target - (sr[pair] ?? 0)\n",
    "    \n",
    "    \n",
    "    sr[pair] = (sr[pair] ?? 0) + lr * Q_error\n",
    "    \n",
    "    return sr\n",
    "}"
   ]
  },
  {
   "cell_type": "code",
   "execution_count": null,
   "metadata": {},
   "outputs": [],
   "source": [
    "let Gamma : Float = 0.95\n",
    "\n",
    "var epsilon: Float = 1.0\n",
    "let EPS_DECAY_RATE : Float = 0.99939\n",
    "let LEARNING_RATE : Float = 0.8\n",
    "\n",
    "let TEST_EPISODES = 100\n",
    "let MAX_GAMES = 150001"
   ]
  },
  {
   "cell_type": "code",
   "execution_count": null,
   "metadata": {},
   "outputs": [],
   "source": [
    "games_count = 0\n",
    "epsilon = 1.0\n",
    "\n",
    "var total_reward : Float = 0\n",
    "\n",
    "while (games_count < MAX_GAMES) {\n",
    "    let act = select_eps_greedy_action(s: sr, obs:obs, \n",
    "                                       n_actions:n_actions,\n",
    "                                       eps: epsilon\n",
    "                                      )\n",
    "    \n",
    "    let (next_obs, reward, done) = step_env(env: env, act:act)\n",
    "    sr = q_learning(sr: &sr, current_obs: obs, next_obs:next_obs, \n",
    "                   r: reward, a: act, g: Gamma,\n",
    "                   lr: LEARNING_RATE)\n",
    "    obs = next_obs\n",
    "    total_reward += reward.reward\n",
    "    //print(total_reward)\n",
    "    if (done) {\n",
    "        epsilon *= EPS_DECAY_RATE\n",
    "    \n",
    "        if ((games_count % 1000) == 0) {\n",
    "            let test_reward = test_game(env: env, s: sr, no_games: TEST_EPISODES)\n",
    "            test_rewards_list.append(test_reward)\n",
    "            print(\"Games count: \" + String(games_count) + \" Epsilon: \" + String(epsilon))\n",
    "            print(test_reward.reward)\n",
    "        }\n",
    "        \n",
    "        // do testing logic... \n",
    "        obs = reset_env(env: env)\n",
    "        games_count+=1\n",
    "        total_reward=0\n",
    "    }\n",
    "}"
   ]
  },
  {
   "cell_type": "code",
   "execution_count": null,
   "metadata": {},
   "outputs": [],
   "source": [
    "p1.shape"
   ]
  },
  {
   "cell_type": "code",
   "execution_count": null,
   "metadata": {},
   "outputs": [],
   "source": [
    "//reset_env(env)"
   ]
  },
  {
   "cell_type": "code",
   "execution_count": null,
   "metadata": {},
   "outputs": [],
   "source": [
    "//step_n_times(n: 3, env: env, act: Action(action:1))"
   ]
  },
  {
   "cell_type": "markdown",
   "metadata": {},
   "source": []
  }
 ],
 "metadata": {
  "kernelspec": {
   "display_name": "Swift",
   "language": "swift",
   "name": "swift"
  }
 },
 "nbformat": 4,
 "nbformat_minor": 2
}
